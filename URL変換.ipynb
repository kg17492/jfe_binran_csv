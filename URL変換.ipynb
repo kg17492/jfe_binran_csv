{
 "cells": [
  {
   "cell_type": "code",
   "execution_count": 2,
   "metadata": {},
   "outputs": [
    {
     "name": "stdout",
     "output_type": "stream",
     "text": [
      ".\\8. 各部構造\\8-1. 鉄筋\\異形棒鋼.csv\n"
     ]
    }
   ],
   "source": [
    "# import csv\n",
    "import urllib.parse\n",
    "import re\n",
    "import os\n",
    "\n",
    "\n",
    "class Line(str):\n",
    "    def is_url(self) -> bool:\n",
    "        return len(urllib.parse.urlparse(self).scheme) > 0\n",
    "\n",
    "    def decode_url(self) -> \"Line\":\n",
    "        return Line(urllib.parse.unquote(self))\n",
    "\n",
    "    def strip(self) -> \"Line\":\n",
    "        return Line(re.sub(\n",
    "            \"&[a-z]+=.+\",\n",
    "            \"\",\n",
    "            self.replace(\n",
    "                \"https://www.google.com/search?q=\",\n",
    "                \"\",\n",
    "            ).replace(\n",
    "                \",\",\n",
    "                \"\",\n",
    "            )).replace(\n",
    "                \"+\",\n",
    "                \",\",\n",
    "            )\n",
    "        )\n",
    "\n",
    "\n",
    "def listdir(parent: str) -> list[str]:\n",
    "    return [os.path.join(parent, child) for child in os.listdir(parent)]\n",
    "\n",
    "\n",
    "def decode_and_to_csv(filename: str) -> None:\n",
    "    if os.path.isfile(filename) and filename.endswith(\".csv\"):\n",
    "        with open(filename, \"r\", encoding=\"utf_8_sig\") as fp:\n",
    "            lines: list[Line] = [Line(line) for line in fp.readlines()]\n",
    "        if all([line.is_url() for line in lines]):\n",
    "            print(filename)\n",
    "            with open(filename, \"w\", encoding=\"utf_8_sig\") as fp:\n",
    "                fp.writelines([line.decode_url().strip() for line in lines])\n",
    "    elif os.path.isdir(filename):\n",
    "        for child in listdir(filename):\n",
    "            decode_and_to_csv(child)\n",
    "\n",
    "decode_and_to_csv(\".\")"
   ]
  },
  {
   "cell_type": "code",
   "execution_count": 23,
   "metadata": {},
   "outputs": [
    {
     "name": "stdout",
     "output_type": "stream",
     "text": [
      "6. 高力ボルト接合部/H梁継手性能表_HBL-H355-M20.csv\n",
      "6. 高力ボルト接合部/H梁継手性能表_HBL-H355-M22.csv\n",
      "5. 断面性能表/5-6. 角型鋼管（小径）の断面性能表.csv\n",
      "5. 断面性能表/5-7. 角型鋼管の断面性能表.csv\n",
      "5. 断面性能表/5-8. 建築構造用冷間プレス成形角形鋼管の断面性能表.csv\n",
      "5. 断面性能表/5-10. 円形鋼管の断面性能表/UOE鋼管、板巻き鋼管.csv\n",
      "5. 断面性能表/5-10. 円形鋼管の断面性能表/シームレス鋼管.csv\n",
      "5. 断面性能表/5-10. 円形鋼管の断面性能表/電縫鋼管.csv\n",
      "5. 断面性能表/5-11. 溶接四面ボックス柱の断面性能表.csv\n"
     ]
    }
   ],
   "source": [
    "import numpy as np\n",
    "import io\n",
    "import csv\n",
    "\n",
    "def read_as_table(self: str) -> np.ndarray:\n",
    "    with io.StringIO() as fp:\n",
    "        fp.write(self)\n",
    "        fp.seek(0)\n",
    "        content: list[list[str]] = [row for row in csv.reader(fp)]\n",
    "        # print(content)\n",
    "        num_col: int = max([len(row) for row in content])\n",
    "        for row in content:\n",
    "            while len(row) < num_col:\n",
    "                row.append(\"\")\n",
    "        return np.array(content)\n",
    "\n",
    "def to_text(self: np.ndarray) -> str:\n",
    "    with io.StringIO(newline=\"\") as fp:\n",
    "        writer = csv.writer(fp)\n",
    "        writer.writerows(self.tolist())\n",
    "        fp.seek(0)\n",
    "        return fp.read()\n",
    "\n",
    "def transpose(filename: str) -> None:\n",
    "    with open(filename, \"r\", encoding=\"utf_8_sig\") as fp:\n",
    "        tables: list[np.ndarray] = [read_as_table(table).T for table in fp.read().split(\"\\n\\n\")]\n",
    "    if all([min(table.shape) > 1 for table in tables]):\n",
    "        print(filename)\n",
    "        content: str = \"\\n\\n\".join([to_text(table) for table in tables])\n",
    "        # print(content)\n",
    "        with open(filename, \"w\", encoding=\"utf_8_sig\") as fp:\n",
    "            fp.writelines(content)\n",
    "\n",
    "for filename in [\n",
    "]:\n",
    "    transpose(filename)\n"
   ]
  },
  {
   "cell_type": "code",
   "execution_count": 5,
   "metadata": {},
   "outputs": [
    {
     "data": {
      "text/plain": [
       "['./2. 荷重および応力の組合せ/2-3. 積載荷重.csv',\n",
       " './5. 断面性能表/5-1.1. H形鋼.csv',\n",
       " './5. 断面性能表/5-1.2. H形鋼_部材種別.csv',\n",
       " './5. 断面性能表/5-10. 円形鋼管/5-10.1. UOE鋼管、板巻き鋼管.csv',\n",
       " './5. 断面性能表/5-10. 円形鋼管/5-10.2. 電縫鋼管.csv',\n",
       " './5. 断面性能表/5-10. 円形鋼管/5-10.3. シームレス鋼管.csv',\n",
       " './5. 断面性能表/5-11. 溶接四面ボックス.csv',\n",
       " './5. 断面性能表/5-12. 平鋼および鋼板の質量寸法表/5-12.1. 平鋼.csv',\n",
       " './5. 断面性能表/5-12. 平鋼および鋼板の質量寸法表/5-12.2. 鋼板の単位質量表.csv',\n",
       " './5. 断面性能表/5-3. CT形鋼.csv',\n",
       " './5. 断面性能表/5-4. 溶接軽量H形鋼.csv',\n",
       " './5. 断面性能表/5-5. 一般形鋼/5-5.1. 等辺山形鋼.csv',\n",
       " './5. 断面性能表/5-5. 一般形鋼/5-5.2. 不等辺等厚山形鋼.csv',\n",
       " './5. 断面性能表/5-5. 一般形鋼/5-5.3. 不等辺不等厚山形鋼.csv',\n",
       " './5. 断面性能表/5-5. 一般形鋼/5-5.4. 溝形鋼.csv',\n",
       " './5. 断面性能表/5-5. 一般形鋼/5-5.5. I形鋼.csv',\n",
       " './5. 断面性能表/5-6. 角型鋼管（小径）.csv',\n",
       " './5. 断面性能表/5-7. 角型鋼管/5-7.1. STKR400, STKR490.csv',\n",
       " './5. 断面性能表/5-7. 角型鋼管/5-7.2. BCR295, JBCR385.csv',\n",
       " './5. 断面性能表/5-8. 冷間成形角形鋼管.csv',\n",
       " './5. 断面性能表/5-9. カクホット.csv',\n",
       " './6. 高力ボルト接合部/6-1. 高力ボルトおよびボルトの許容耐力表.csv',\n",
       " './6. 高力ボルト接合部/6-6.1. H梁継手性能表_SN400-M20.csv',\n",
       " './6. 高力ボルト接合部/6-6.2. H梁継手性能表_SN400-M22.csv',\n",
       " './6. 高力ボルト接合部/6-6.3. H梁継手性能表_SN490-M20.csv',\n",
       " './6. 高力ボルト接合部/6-6.4. H梁継手性能表_SN490-M22.csv',\n",
       " './6. 高力ボルト接合部/6-6.5. H梁継手性能表_HBL-H355-M20.csv',\n",
       " './6. 高力ボルト接合部/6-6.6. H梁継手性能表_HBL-H355-M22.csv']"
      ]
     },
     "execution_count": 5,
     "metadata": {},
     "output_type": "execute_result"
    }
   ],
   "source": [
    "import os\n",
    "\n",
    "def listdir(parent: str) -> list[str]:\n",
    "    return [os.path.join(parent, child) for child in os.listdir(parent)]\n",
    "\n",
    "\n",
    "def recurse_listdir(parent: str) -> list[str]:\n",
    "    result: list[str] = []\n",
    "    for child in listdir(parent):\n",
    "        if os.path.isfile(child) and child.endswith(\".csv\"):\n",
    "            result.append(child)\n",
    "        elif os.path.isdir(child):\n",
    "            result += recurse_listdir(child)\n",
    "    return result\n",
    "\n",
    "sorted([file.replace(\"\\\\\", \"/\") for file in recurse_listdir(\".\")])\n"
   ]
  }
 ],
 "metadata": {
  "kernelspec": {
   "display_name": "Python 3",
   "language": "python",
   "name": "python3"
  },
  "language_info": {
   "codemirror_mode": {
    "name": "ipython",
    "version": 3
   },
   "file_extension": ".py",
   "mimetype": "text/x-python",
   "name": "python",
   "nbconvert_exporter": "python",
   "pygments_lexer": "ipython3",
   "version": "3.12.1"
  }
 },
 "nbformat": 4,
 "nbformat_minor": 2
}
